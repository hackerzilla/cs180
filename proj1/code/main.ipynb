{
 "cells": [
  {
   "cell_type": "code",
   "execution_count": null,
   "id": "c9fc5b06-fec2-48c2-998d-91b6d84bfc1c",
   "metadata": {},
   "outputs": [],
   "source": [
    "%pylab inline\n",
    "from pylab import *\n",
    "import cv2\n",
    "from skimage.transform import resize\n",
    "import math"
   ]
  },
  {
   "cell_type": "code",
   "execution_count": null,
   "id": "a59ca2f3-df1a-4d4d-854f-e355e412d42c",
   "metadata": {},
   "outputs": [],
   "source": [
    "def read_im(filepath):\n",
    "    if filepath[len(filepath)-3:] == 'tif':\n",
    "        return imread(filepath)/65536.0\n",
    "    return imread(filepath)/255.0"
   ]
  },
  {
   "cell_type": "code",
   "execution_count": null,
   "id": "034baa53-9f81-4648-a469-06a0664f1d60",
   "metadata": {},
   "outputs": [],
   "source": [
    "def crop(image, divisor):\n",
    "    # Returns image/divisor centered at image's center\n",
    "    # Crops y pixels off the top and bottom and x pixels off the sides.\n",
    "    # Subtracts (dimension/divisor) from each dimension.\n",
    "    h, w = image.shape[:2]\n",
    "    crop_y = int((h / divisor) / 2)\n",
    "    crop_x = int((w / divisor) / 2)\n",
    "    return image[crop_y:h-crop_y, crop_x:w-crop_x]"
   ]
  },
  {
   "cell_type": "code",
   "execution_count": null,
   "id": "fd34dd3d-b312-47f9-8712-27038d75248f",
   "metadata": {},
   "outputs": [],
   "source": [
    "def crop_pixels(image, px_y, px_x):\n",
    "    # Returns an image with pixels cropped off all sides\n",
    "    return image[px_y:image.shape[0] - px_y, px_x:image.shape[1] - px_x]"
   ]
  },
  {
   "cell_type": "code",
   "execution_count": null,
   "id": "15bf19f7-7f9a-4305-826c-00040dd91be9",
   "metadata": {},
   "outputs": [],
   "source": [
    "def make_dims_even(image):\n",
    "    h = image.shape[0]\n",
    "    w = image.shape[1]\n",
    "    # Reduce the dimension if odd.\n",
    "    h = h - (h % 2)\n",
    "    w = w - (w % 2)\n",
    "    return image[:h, :w]"
   ]
  },
  {
   "cell_type": "code",
   "execution_count": null,
   "id": "880140db-070c-46cc-9a6c-f11ec2159891",
   "metadata": {},
   "outputs": [],
   "source": [
    "def separate_images(image):\n",
    "    \"\"\"\n",
    "    Helper Function.\n",
    "    Returns a tuple of (blue_image, green_image, red_image) separated from one monolithic image.\n",
    "    \"\"\"\n",
    "    # Extract the 3 images\n",
    "    height = image.shape[0] // 3\n",
    "    width  = image.shape[1]\n",
    "    blu_im = image[          :height, :width]\n",
    "    gre_im = image[  height:2*height, :width]\n",
    "    red_im = image[2*height:3*height, :width]\n",
    "    \n",
    "    return (blu_im, gre_im, red_im)"
   ]
  },
  {
   "cell_type": "code",
   "execution_count": null,
   "id": "e19d032d-c732-411f-b56c-5a84d19f205a",
   "metadata": {},
   "outputs": [],
   "source": [
    "def ncc(u, v):\n",
    "    \"\"\"\n",
    "    Normalized Cross Correlation\n",
    "    \"\"\"\n",
    "    u_norm = (u / np.linalg.norm(u)).ravel()\n",
    "    v_norm = (v / np.linalg.norm(v)).ravel()\n",
    "    return np.dot(u_norm, v_norm)\n"
   ]
  },
  {
   "cell_type": "code",
   "execution_count": null,
   "id": "391356ac-69b8-4743-8a41-6c13e5e7fc0d",
   "metadata": {},
   "outputs": [],
   "source": [
    "def translate(im, translation):\n",
    "    \"\"\"\n",
    "    Helper function that translates an image.\n",
    "    \"\"\"\n",
    "    height, width = im.shape[:2]\n",
    "    mat = translation_matrix = np.array([\n",
    "        [1, 0, translation[1]],\n",
    "        [0, 1, translation[0]]\n",
    "    ], dtype=np.float32)\n",
    "    return cv2.warpAffine(im, mat, (width, height))"
   ]
  },
  {
   "cell_type": "code",
   "execution_count": null,
   "id": "574479a0",
   "metadata": {},
   "outputs": [],
   "source": [
    "def colorize(blue_im, green_im, red_im, green_alignment, red_alignment):   \n",
    "    h = blue_im.shape[0]\n",
    "    w = blue_im.shape[1]\n",
    "\n",
    "    composite = np.zeros((h, w, 3))\n",
    "    \n",
    "    green_translated = translate(green_im, green_alignment)\n",
    "    red_translated = translate(red_im, red_alignment)\n",
    "\n",
    "    for y in range(0, h):\n",
    "        for x in range(0, w):\n",
    "            composite[y][x][0] = red_translated[y][x]\n",
    "            composite[y][x][1] = green_translated[y][x]\n",
    "            composite[y][x][2] = blue_im[y][x]\n",
    "    \n",
    "    return composite"
   ]
  },
  {
   "cell_type": "code",
   "execution_count": null,
   "id": "826f21d9-a3f0-411a-8f01-bddc6203fe81",
   "metadata": {},
   "outputs": [],
   "source": [
    "def create_pyramid(image):\n",
    "    max_depth = 4\n",
    "    h, w = image.shape[:2]\n",
    "    # Figure out how many levels could cleanly fit into image. Either log_2(height) or log_2(width)\n",
    "    levels_y = math.floor(int(math.log(h, 2)))\n",
    "    levels_x = math.floor(int(math.log(w, 2)))\n",
    "    num_levels = min(levels_y, levels_x, max_depth)\n",
    "    pyramid = []\n",
    "    # Add the levels to the pyramid, from lowest res -> highest res\n",
    "    for i in reversed(range(0,num_levels)):\n",
    "        scale = 2**i\n",
    "        level_image = resize(image, (image.shape[0]//scale, image.shape[1]//scale))\n",
    "        # To make things nice, ensure the dimensions are even by cutting a pixel off the edge.\n",
    "        if level_image.shape[0] % 2 or level_image.shape[1] % 2:\n",
    "            level_image = make_dims_even(level_image)\n",
    "        pyramid.append(level_image)\n",
    "        \n",
    "        \n",
    "    return pyramid"
   ]
  },
  {
   "cell_type": "code",
   "execution_count": null,
   "id": "28c679ac-e461-45fb-8e2d-275e4435f2b2",
   "metadata": {},
   "outputs": [],
   "source": [
    "def align(u, v):\n",
    "    \"\"\"\n",
    "        Aligns v to u and returns the best translation vector.\n",
    "    \"\"\"\n",
    "    # Get dimensions of u.\n",
    "    hu, wu = u.shape[:2]\n",
    "    # Search within +/- 15px. \n",
    "    scan_y = 11\n",
    "    scan_x = 11\n",
    "    # If the matrix is smaller than that, search within a range of +/- 0.5dimension\n",
    "    if v.shape[0]/2 < scan_y:\n",
    "        scan_y = v.shape[0]//2\n",
    "    if v.shape[1]/2 < scan_x:\n",
    "        scan_x = v.shape[1]//2\n",
    "    \n",
    "    max_ncc = -1\n",
    "    best_dy = None\n",
    "    best_dx = None\n",
    "\n",
    "    # Crop v.\n",
    "    v_crop = v[scan_y:-scan_y, scan_x:-scan_x]\n",
    "    # Get dimensions of v_crop\n",
    "    hv, wv = v_crop.shape[:2]\n",
    "    # Scan through the search area range and pick the translation with the best Normalized Cross Correlation.\n",
    "    for dy in range(-scan_y, scan_y+1):        \n",
    "        for dx in range(-scan_x, scan_x+1):\n",
    "            # Crop u to part overlapping with v_crop.\n",
    "            min_y = scan_y + dy      # min_y = 0 when dy = -scan_y\n",
    "            max_y = hu - scan_y + dy # max_y = hu when dy = +scan_y\n",
    "            min_x = scan_x + dx      # min_x = 0 when dx = -scan_x\n",
    "            max_x = wu - scan_x + dx # max_x = wu when dx = +scan_x \n",
    "            u_crop = u[min_y:max_y, min_x:max_x]\n",
    "            # Calculate the Normalized Cross Correlation.\n",
    "            score = ncc(u_crop, v_crop)\n",
    "            #print(f\"ncc score = {score}, at {dy, dx}\")\n",
    "            # Replace previous maximum if greater.\n",
    "            if score > max_ncc:\n",
    "                #print(f\"Max found {score}, at {dy, dx}\")\n",
    "                max_ncc = score\n",
    "                best_dy = dy\n",
    "                best_dx = dx\n",
    "    \n",
    "    new_best_estimate = (best_dy, best_dx)\n",
    "    return new_best_estimate"
   ]
  },
  {
   "cell_type": "code",
   "execution_count": null,
   "id": "bd31e768-41db-4687-96db-d7826d2c890a",
   "metadata": {},
   "outputs": [],
   "source": [
    "def pyramid_align(pyramid_a, pyramid_b):\n",
    "    \"\"\"\n",
    "    Aligns image b to image a (represented as image pyramids)\n",
    "    Calls align() on the pyramid from the bottom level to the top original.\n",
    "    Returns a translation that is the best alignment for the top images of each pyramid.\n",
    "    \"\"\"\n",
    "    estimate = (0, 0)\n",
    "    # Get the top level image from a (blue reference image)\n",
    "    # Crop by 10%\n",
    "    for i in range(len(pyramid_a)):\n",
    "        #print(f\"\\npyramid loop level {i}\")\n",
    "        # Scale estimate translations by 2 to account for scaling.\n",
    "        estimate = (estimate[0]*2, estimate[1]*2)\n",
    "        \n",
    "        # Get the current level image.\n",
    "        image_b = pyramid_b[i]\n",
    "        image_a = pyramid_a[i]\n",
    "\n",
    "        #Update image b to the current esimated alignment.\n",
    "        image_b = translate(image_b, estimate)\n",
    "        # Crop by 10%\n",
    "        image_b = crop(image_b, 10)\n",
    "        image_a = crop(image_a, 10)\n",
    "\n",
    "        # Get the new estimate.\n",
    "        updated_estimate = align(image_a, image_b)\n",
    "        #print(f\"current estimate = {estimate}, updated estimate = {updated_estimate}\")\n",
    "        \n",
    "        # Update the estimate by adding the translations.\n",
    "        estimate = ((estimate[0] + updated_estimate[0]), (estimate[1] + updated_estimate[1]))\n",
    "        #print(f\"updated estimate + old estimate = {estimate}\")\n",
    "        \n",
    "    return estimate"
   ]
  },
  {
   "cell_type": "code",
   "execution_count": null,
   "id": "bfe38396-bd7c-4a7d-bc4a-b3c9e4037918",
   "metadata": {},
   "outputs": [],
   "source": [
    "def align_and_colorize(image_filepath):\n",
    "    # Read in the image.\n",
    "    full_image = read_im(image_filepath)\n",
    "\n",
    "    # Get 3 photos.\n",
    "    blue_im, green_im, red_im = separate_images(full_image)\n",
    "    \n",
    "    # Create image pyramid for each sub-image.\n",
    "    blue_pyramid = create_pyramid(blue_im)\n",
    "    green_pyramid = create_pyramid(green_im)\n",
    "    red_pyramid = create_pyramid(red_im)\n",
    "\n",
    "    # Align green to blue\n",
    "    #print(f\"\\nAligning Green pyramid------------------------------\")\n",
    "    green_alignment = pyramid_align(blue_pyramid, green_pyramid)\n",
    "    \n",
    "    # Align red to blue\n",
    "    #print(f\"\\nAligning Red pyramid------------------------------\")\n",
    "    red_alignment = pyramid_align(blue_pyramid, red_pyramid)\n",
    "\n",
    "    # Stack the images\n",
    "    composite = colorize(blue_im, green_im, red_im, green_alignment, red_alignment)\n",
    "    \n",
    "    # Crop by 10% to get the final result.\n",
    "    cropped_composite = crop(composite, 10)\n",
    "        \n",
    "    return cropped_composite, green_alignment, red_alignment\n"
   ]
  },
  {
   "cell_type": "code",
   "execution_count": null,
   "id": "2aec838f-2ddc-4a16-ac7f-e05799d47e8e",
   "metadata": {},
   "outputs": [],
   "source": [
    "def test_align_and_colorize(filepath):\n",
    "    (image, green_alignment, red_alignment) = align_and_colorize(filepath)\n",
    "    imshow(image)\n",
    "    print(f\"Green alignment = {green_alignment}, Red alignment = {red_alignment}.\")\n",
    "    return (image, green_alignment, red_alignment)"
   ]
  },
  {
   "cell_type": "code",
   "execution_count": null,
   "id": "c4bb16fb-8923-4210-aec9-b8e49f46d1aa",
   "metadata": {},
   "outputs": [],
   "source": [
    "filenames = [\n",
    "    'cathedral.jpg',          'icon.tif',               'self_portrait.tif',\n",
    "    'church.tif',             'lady.tif',               'three_generations.tif',\n",
    "    'melons.tif',             'tobolsk.jpg',\n",
    "    'monastery.jpg',          'train.tif',\n",
    "    'emir.tif',               'onion_church.tif',\n",
    "    'harvesters.tif',         'sculpture.tif'\n",
    "]"
   ]
  },
  {
   "cell_type": "code",
   "execution_count": null,
   "id": "2dba6c5e-c237-41f4-89c1-d53c6dce445a",
   "metadata": {},
   "outputs": [],
   "source": [
    "import time"
   ]
  },
  {
   "cell_type": "code",
   "execution_count": null,
   "id": "15d7b3db-1fb4-4096-a119-4235d490a67f",
   "metadata": {},
   "outputs": [],
   "source": [
    "results = []\n",
    "for filename in filenames:\n",
    "    filepath = '../data/' + filename\n",
    "    print(f\"Processing file {filename}\")    \n",
    "    time_start = time.time()\n",
    "    results.append(align_and_colorize(filepath))\n",
    "    time_done = time.time()\n",
    "    duration = time_done - time_start\n",
    "    print(f\"Done! Took {duration} seconds.\\n\")    "
   ]
  },
  {
   "cell_type": "code",
   "execution_count": null,
   "id": "cbda686a-7836-4749-b07c-7663edfee3d8",
   "metadata": {},
   "outputs": [],
   "source": [
    "for i in range(len(filenames)):\n",
    "    print(f\"For file {filenames[i]} the offsets are: Green = {results[i][1]}, Red = {results[i][2]}.\")\n",
    "    plt.figure()\n",
    "    plt.imshow(results[i][0])"
   ]
  },
  {
   "cell_type": "code",
   "execution_count": null,
   "id": "4f1ad90b-84c2-4360-897a-e3d5995c5ee1",
   "metadata": {},
   "outputs": [],
   "source": [
    "\"\"\"\n",
    "# Save the images as jpg\n",
    "for i in range(len(filenames)):\n",
    "    filepath = '../results/' + filenames[i][:-4] + '.jpg'\n",
    "    print(f\"Saving file {filenames[i]} as {filepath}\"\n",
    "    imsave(filepath, results[i][0])\n",
    "\"\"\""
   ]
  },
  {
   "cell_type": "code",
   "execution_count": null,
   "id": "d19ab1b7-7314-4971-bba3-c55ad43fc73a",
   "metadata": {},
   "outputs": [],
   "source": [
    "\"\"\"\n",
    "for i in range(len(filenames)):\n",
    "    print(f\"<tr> <td>{filenames[i]}</td> <td>{results[i][1]}</td> <td>{results[i][2]}</td> </tr>\")\n",
    "\"\"\""
   ]
  },
  {
   "cell_type": "code",
   "execution_count": null,
   "id": "09650fc4-e308-455d-a6f6-7b6dfdb81763",
   "metadata": {},
   "outputs": [],
   "source": [
    "\"\"\"\n",
    "for i in range(len(filenames)):\n",
    "    print(f\"<img align=\\\"middle\\\" src=\\\"images/{filenames[i][:-3]}jpg\\\" alt=\\\"{filenames[i][:-4]}\\\">\")\n",
    "\"\"\"\n"
   ]
  },
  {
   "cell_type": "code",
   "execution_count": null,
   "id": "88fedd0d-188d-44b7-bc21-cebc7fec1ae2",
   "metadata": {},
   "outputs": [],
   "source": []
  }
 ],
 "metadata": {
  "kernelspec": {
   "display_name": "Python 3 (ipykernel)",
   "language": "python",
   "name": "python3"
  },
  "language_info": {
   "codemirror_mode": {
    "name": "ipython",
    "version": 3
   },
   "file_extension": ".py",
   "mimetype": "text/x-python",
   "name": "python",
   "nbconvert_exporter": "python",
   "pygments_lexer": "ipython3",
   "version": "3.11.4"
  }
 },
 "nbformat": 4,
 "nbformat_minor": 5
}
